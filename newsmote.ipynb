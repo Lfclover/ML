{
  "nbformat": 4,
  "nbformat_minor": 0,
  "metadata": {
    "colab": {
      "name": "newsmote.ipynb",
      "provenance": []
    },
    "kernelspec": {
      "name": "python3",
      "display_name": "Python 3"
    },
    "language_info": {
      "name": "python"
    }
  },
  "cells": [
    {
      "cell_type": "code",
      "execution_count": 1,
      "metadata": {
        "id": "2s7URsXe7NFL"
      },
      "outputs": [],
      "source": [
        "import pandas as pd\n",
        "import collections\n",
        "import matplotlib.pyplot as plt\n",
        "%matplotlib inline"
      ]
    },
    {
      "cell_type": "code",
      "source": [
        "df=pd.read_csv('/content/creditcard.csv')"
      ],
      "metadata": {
        "id": "NIt-UXYo7Yvs"
      },
      "execution_count": 2,
      "outputs": []
    },
    {
      "cell_type": "code",
      "source": [
        "df"
      ],
      "metadata": {
        "colab": {
          "base_uri": "https://localhost:8080/",
          "height": 488
        },
        "id": "yXbhU5IC8tIr",
        "outputId": "56e1cc58-acd3-4367-d9ba-bc10b27deb36"
      },
      "execution_count": 3,
      "outputs": [
        {
          "output_type": "execute_result",
          "data": {
            "text/plain": [
              "        Time        V1        V2        V3        V4        V5        V6  \\\n",
              "0          0 -1.359807 -0.072781  2.536347  1.378155 -0.338321  0.462388   \n",
              "1          0  1.191857  0.266151  0.166480  0.448154  0.060018 -0.082361   \n",
              "2          1 -1.358354 -1.340163  1.773209  0.379780 -0.503198  1.800499   \n",
              "3          1 -0.966272 -0.185226  1.792993 -0.863291 -0.010309  1.247203   \n",
              "4          2 -1.158233  0.877737  1.548718  0.403034 -0.407193  0.095921   \n",
              "...      ...       ...       ...       ...       ...       ...       ...   \n",
              "57526  47945  1.138100  0.186695  0.224979  1.098891 -0.149107 -0.494817   \n",
              "57527  47946 -0.646913  1.130799  1.050571 -0.569363  0.844107  0.227605   \n",
              "57528  47946  1.214047  0.217891  0.399390  0.945208 -0.101512 -0.108244   \n",
              "57529  47946 -0.637264  1.187105  0.911446  0.827789 -0.241755 -0.431410   \n",
              "57530  47946 -1.054793  0.820159  0.709861 -0.071631       NaN       NaN   \n",
              "\n",
              "             V7        V8        V9  ...       V21       V22       V23  \\\n",
              "0      0.239599  0.098698  0.363787  ... -0.018307  0.277838 -0.110474   \n",
              "1     -0.078803  0.085102 -0.255425  ... -0.225775 -0.638672  0.101288   \n",
              "2      0.791461  0.247676 -1.514654  ...  0.247998  0.771679  0.909412   \n",
              "3      0.237609  0.377436 -1.387024  ... -0.108300  0.005274 -0.190321   \n",
              "4      0.592941 -0.270533  0.817739  ... -0.009431  0.798278 -0.137458   \n",
              "...         ...       ...       ...  ...       ...       ...       ...   \n",
              "57526  0.158646 -0.082146  0.031110  ...  0.070575  0.193698 -0.093600   \n",
              "57527  0.808902 -0.130225 -0.290188  ... -0.327854 -0.647464 -0.188020   \n",
              "57528 -0.099976  0.071885  0.248587  ... -0.293180 -0.859018  0.125645   \n",
              "57529  0.482341  0.395142 -1.095934  ...  0.272207  0.604289 -0.037705   \n",
              "57530       NaN       NaN       NaN  ...       NaN       NaN       NaN   \n",
              "\n",
              "            V24       V25       V26       V27       V28  Amount  Class  \n",
              "0      0.066928  0.128539 -0.189115  0.133558 -0.021053  149.62    0.0  \n",
              "1     -0.339846  0.167170  0.125895 -0.008983  0.014724    2.69    0.0  \n",
              "2     -0.689281 -0.327642 -0.139097 -0.055353 -0.059752  378.66    0.0  \n",
              "3     -1.175575  0.647376 -0.221929  0.062723  0.061458  123.50    0.0  \n",
              "4      0.141267 -0.206010  0.502292  0.219422  0.215153   69.99    0.0  \n",
              "...         ...       ...       ...       ...       ...     ...    ...  \n",
              "57526  0.078039  0.590292 -0.300950  0.021664  0.021820   36.86    0.0  \n",
              "57527 -1.029697  0.014101  0.101051  0.084340 -0.074503    1.98    0.0  \n",
              "57528 -0.508650  0.253563 -0.629445  0.040633  0.022467    2.99    0.0  \n",
              "57529  0.339703 -0.250802 -0.350949  0.031500  0.094337   45.00    0.0  \n",
              "57530       NaN       NaN       NaN       NaN       NaN     NaN    NaN  \n",
              "\n",
              "[57531 rows x 31 columns]"
            ],
            "text/html": [
              "\n",
              "  <div id=\"df-8206b3d7-c59a-4fd5-89ed-b21a1bac4490\">\n",
              "    <div class=\"colab-df-container\">\n",
              "      <div>\n",
              "<style scoped>\n",
              "    .dataframe tbody tr th:only-of-type {\n",
              "        vertical-align: middle;\n",
              "    }\n",
              "\n",
              "    .dataframe tbody tr th {\n",
              "        vertical-align: top;\n",
              "    }\n",
              "\n",
              "    .dataframe thead th {\n",
              "        text-align: right;\n",
              "    }\n",
              "</style>\n",
              "<table border=\"1\" class=\"dataframe\">\n",
              "  <thead>\n",
              "    <tr style=\"text-align: right;\">\n",
              "      <th></th>\n",
              "      <th>Time</th>\n",
              "      <th>V1</th>\n",
              "      <th>V2</th>\n",
              "      <th>V3</th>\n",
              "      <th>V4</th>\n",
              "      <th>V5</th>\n",
              "      <th>V6</th>\n",
              "      <th>V7</th>\n",
              "      <th>V8</th>\n",
              "      <th>V9</th>\n",
              "      <th>...</th>\n",
              "      <th>V21</th>\n",
              "      <th>V22</th>\n",
              "      <th>V23</th>\n",
              "      <th>V24</th>\n",
              "      <th>V25</th>\n",
              "      <th>V26</th>\n",
              "      <th>V27</th>\n",
              "      <th>V28</th>\n",
              "      <th>Amount</th>\n",
              "      <th>Class</th>\n",
              "    </tr>\n",
              "  </thead>\n",
              "  <tbody>\n",
              "    <tr>\n",
              "      <th>0</th>\n",
              "      <td>0</td>\n",
              "      <td>-1.359807</td>\n",
              "      <td>-0.072781</td>\n",
              "      <td>2.536347</td>\n",
              "      <td>1.378155</td>\n",
              "      <td>-0.338321</td>\n",
              "      <td>0.462388</td>\n",
              "      <td>0.239599</td>\n",
              "      <td>0.098698</td>\n",
              "      <td>0.363787</td>\n",
              "      <td>...</td>\n",
              "      <td>-0.018307</td>\n",
              "      <td>0.277838</td>\n",
              "      <td>-0.110474</td>\n",
              "      <td>0.066928</td>\n",
              "      <td>0.128539</td>\n",
              "      <td>-0.189115</td>\n",
              "      <td>0.133558</td>\n",
              "      <td>-0.021053</td>\n",
              "      <td>149.62</td>\n",
              "      <td>0.0</td>\n",
              "    </tr>\n",
              "    <tr>\n",
              "      <th>1</th>\n",
              "      <td>0</td>\n",
              "      <td>1.191857</td>\n",
              "      <td>0.266151</td>\n",
              "      <td>0.166480</td>\n",
              "      <td>0.448154</td>\n",
              "      <td>0.060018</td>\n",
              "      <td>-0.082361</td>\n",
              "      <td>-0.078803</td>\n",
              "      <td>0.085102</td>\n",
              "      <td>-0.255425</td>\n",
              "      <td>...</td>\n",
              "      <td>-0.225775</td>\n",
              "      <td>-0.638672</td>\n",
              "      <td>0.101288</td>\n",
              "      <td>-0.339846</td>\n",
              "      <td>0.167170</td>\n",
              "      <td>0.125895</td>\n",
              "      <td>-0.008983</td>\n",
              "      <td>0.014724</td>\n",
              "      <td>2.69</td>\n",
              "      <td>0.0</td>\n",
              "    </tr>\n",
              "    <tr>\n",
              "      <th>2</th>\n",
              "      <td>1</td>\n",
              "      <td>-1.358354</td>\n",
              "      <td>-1.340163</td>\n",
              "      <td>1.773209</td>\n",
              "      <td>0.379780</td>\n",
              "      <td>-0.503198</td>\n",
              "      <td>1.800499</td>\n",
              "      <td>0.791461</td>\n",
              "      <td>0.247676</td>\n",
              "      <td>-1.514654</td>\n",
              "      <td>...</td>\n",
              "      <td>0.247998</td>\n",
              "      <td>0.771679</td>\n",
              "      <td>0.909412</td>\n",
              "      <td>-0.689281</td>\n",
              "      <td>-0.327642</td>\n",
              "      <td>-0.139097</td>\n",
              "      <td>-0.055353</td>\n",
              "      <td>-0.059752</td>\n",
              "      <td>378.66</td>\n",
              "      <td>0.0</td>\n",
              "    </tr>\n",
              "    <tr>\n",
              "      <th>3</th>\n",
              "      <td>1</td>\n",
              "      <td>-0.966272</td>\n",
              "      <td>-0.185226</td>\n",
              "      <td>1.792993</td>\n",
              "      <td>-0.863291</td>\n",
              "      <td>-0.010309</td>\n",
              "      <td>1.247203</td>\n",
              "      <td>0.237609</td>\n",
              "      <td>0.377436</td>\n",
              "      <td>-1.387024</td>\n",
              "      <td>...</td>\n",
              "      <td>-0.108300</td>\n",
              "      <td>0.005274</td>\n",
              "      <td>-0.190321</td>\n",
              "      <td>-1.175575</td>\n",
              "      <td>0.647376</td>\n",
              "      <td>-0.221929</td>\n",
              "      <td>0.062723</td>\n",
              "      <td>0.061458</td>\n",
              "      <td>123.50</td>\n",
              "      <td>0.0</td>\n",
              "    </tr>\n",
              "    <tr>\n",
              "      <th>4</th>\n",
              "      <td>2</td>\n",
              "      <td>-1.158233</td>\n",
              "      <td>0.877737</td>\n",
              "      <td>1.548718</td>\n",
              "      <td>0.403034</td>\n",
              "      <td>-0.407193</td>\n",
              "      <td>0.095921</td>\n",
              "      <td>0.592941</td>\n",
              "      <td>-0.270533</td>\n",
              "      <td>0.817739</td>\n",
              "      <td>...</td>\n",
              "      <td>-0.009431</td>\n",
              "      <td>0.798278</td>\n",
              "      <td>-0.137458</td>\n",
              "      <td>0.141267</td>\n",
              "      <td>-0.206010</td>\n",
              "      <td>0.502292</td>\n",
              "      <td>0.219422</td>\n",
              "      <td>0.215153</td>\n",
              "      <td>69.99</td>\n",
              "      <td>0.0</td>\n",
              "    </tr>\n",
              "    <tr>\n",
              "      <th>...</th>\n",
              "      <td>...</td>\n",
              "      <td>...</td>\n",
              "      <td>...</td>\n",
              "      <td>...</td>\n",
              "      <td>...</td>\n",
              "      <td>...</td>\n",
              "      <td>...</td>\n",
              "      <td>...</td>\n",
              "      <td>...</td>\n",
              "      <td>...</td>\n",
              "      <td>...</td>\n",
              "      <td>...</td>\n",
              "      <td>...</td>\n",
              "      <td>...</td>\n",
              "      <td>...</td>\n",
              "      <td>...</td>\n",
              "      <td>...</td>\n",
              "      <td>...</td>\n",
              "      <td>...</td>\n",
              "      <td>...</td>\n",
              "      <td>...</td>\n",
              "    </tr>\n",
              "    <tr>\n",
              "      <th>57526</th>\n",
              "      <td>47945</td>\n",
              "      <td>1.138100</td>\n",
              "      <td>0.186695</td>\n",
              "      <td>0.224979</td>\n",
              "      <td>1.098891</td>\n",
              "      <td>-0.149107</td>\n",
              "      <td>-0.494817</td>\n",
              "      <td>0.158646</td>\n",
              "      <td>-0.082146</td>\n",
              "      <td>0.031110</td>\n",
              "      <td>...</td>\n",
              "      <td>0.070575</td>\n",
              "      <td>0.193698</td>\n",
              "      <td>-0.093600</td>\n",
              "      <td>0.078039</td>\n",
              "      <td>0.590292</td>\n",
              "      <td>-0.300950</td>\n",
              "      <td>0.021664</td>\n",
              "      <td>0.021820</td>\n",
              "      <td>36.86</td>\n",
              "      <td>0.0</td>\n",
              "    </tr>\n",
              "    <tr>\n",
              "      <th>57527</th>\n",
              "      <td>47946</td>\n",
              "      <td>-0.646913</td>\n",
              "      <td>1.130799</td>\n",
              "      <td>1.050571</td>\n",
              "      <td>-0.569363</td>\n",
              "      <td>0.844107</td>\n",
              "      <td>0.227605</td>\n",
              "      <td>0.808902</td>\n",
              "      <td>-0.130225</td>\n",
              "      <td>-0.290188</td>\n",
              "      <td>...</td>\n",
              "      <td>-0.327854</td>\n",
              "      <td>-0.647464</td>\n",
              "      <td>-0.188020</td>\n",
              "      <td>-1.029697</td>\n",
              "      <td>0.014101</td>\n",
              "      <td>0.101051</td>\n",
              "      <td>0.084340</td>\n",
              "      <td>-0.074503</td>\n",
              "      <td>1.98</td>\n",
              "      <td>0.0</td>\n",
              "    </tr>\n",
              "    <tr>\n",
              "      <th>57528</th>\n",
              "      <td>47946</td>\n",
              "      <td>1.214047</td>\n",
              "      <td>0.217891</td>\n",
              "      <td>0.399390</td>\n",
              "      <td>0.945208</td>\n",
              "      <td>-0.101512</td>\n",
              "      <td>-0.108244</td>\n",
              "      <td>-0.099976</td>\n",
              "      <td>0.071885</td>\n",
              "      <td>0.248587</td>\n",
              "      <td>...</td>\n",
              "      <td>-0.293180</td>\n",
              "      <td>-0.859018</td>\n",
              "      <td>0.125645</td>\n",
              "      <td>-0.508650</td>\n",
              "      <td>0.253563</td>\n",
              "      <td>-0.629445</td>\n",
              "      <td>0.040633</td>\n",
              "      <td>0.022467</td>\n",
              "      <td>2.99</td>\n",
              "      <td>0.0</td>\n",
              "    </tr>\n",
              "    <tr>\n",
              "      <th>57529</th>\n",
              "      <td>47946</td>\n",
              "      <td>-0.637264</td>\n",
              "      <td>1.187105</td>\n",
              "      <td>0.911446</td>\n",
              "      <td>0.827789</td>\n",
              "      <td>-0.241755</td>\n",
              "      <td>-0.431410</td>\n",
              "      <td>0.482341</td>\n",
              "      <td>0.395142</td>\n",
              "      <td>-1.095934</td>\n",
              "      <td>...</td>\n",
              "      <td>0.272207</td>\n",
              "      <td>0.604289</td>\n",
              "      <td>-0.037705</td>\n",
              "      <td>0.339703</td>\n",
              "      <td>-0.250802</td>\n",
              "      <td>-0.350949</td>\n",
              "      <td>0.031500</td>\n",
              "      <td>0.094337</td>\n",
              "      <td>45.00</td>\n",
              "      <td>0.0</td>\n",
              "    </tr>\n",
              "    <tr>\n",
              "      <th>57530</th>\n",
              "      <td>47946</td>\n",
              "      <td>-1.054793</td>\n",
              "      <td>0.820159</td>\n",
              "      <td>0.709861</td>\n",
              "      <td>-0.071631</td>\n",
              "      <td>NaN</td>\n",
              "      <td>NaN</td>\n",
              "      <td>NaN</td>\n",
              "      <td>NaN</td>\n",
              "      <td>NaN</td>\n",
              "      <td>...</td>\n",
              "      <td>NaN</td>\n",
              "      <td>NaN</td>\n",
              "      <td>NaN</td>\n",
              "      <td>NaN</td>\n",
              "      <td>NaN</td>\n",
              "      <td>NaN</td>\n",
              "      <td>NaN</td>\n",
              "      <td>NaN</td>\n",
              "      <td>NaN</td>\n",
              "      <td>NaN</td>\n",
              "    </tr>\n",
              "  </tbody>\n",
              "</table>\n",
              "<p>57531 rows × 31 columns</p>\n",
              "</div>\n",
              "      <button class=\"colab-df-convert\" onclick=\"convertToInteractive('df-8206b3d7-c59a-4fd5-89ed-b21a1bac4490')\"\n",
              "              title=\"Convert this dataframe to an interactive table.\"\n",
              "              style=\"display:none;\">\n",
              "        \n",
              "  <svg xmlns=\"http://www.w3.org/2000/svg\" height=\"24px\"viewBox=\"0 0 24 24\"\n",
              "       width=\"24px\">\n",
              "    <path d=\"M0 0h24v24H0V0z\" fill=\"none\"/>\n",
              "    <path d=\"M18.56 5.44l.94 2.06.94-2.06 2.06-.94-2.06-.94-.94-2.06-.94 2.06-2.06.94zm-11 1L8.5 8.5l.94-2.06 2.06-.94-2.06-.94L8.5 2.5l-.94 2.06-2.06.94zm10 10l.94 2.06.94-2.06 2.06-.94-2.06-.94-.94-2.06-.94 2.06-2.06.94z\"/><path d=\"M17.41 7.96l-1.37-1.37c-.4-.4-.92-.59-1.43-.59-.52 0-1.04.2-1.43.59L10.3 9.45l-7.72 7.72c-.78.78-.78 2.05 0 2.83L4 21.41c.39.39.9.59 1.41.59.51 0 1.02-.2 1.41-.59l7.78-7.78 2.81-2.81c.8-.78.8-2.07 0-2.86zM5.41 20L4 18.59l7.72-7.72 1.47 1.35L5.41 20z\"/>\n",
              "  </svg>\n",
              "      </button>\n",
              "      \n",
              "  <style>\n",
              "    .colab-df-container {\n",
              "      display:flex;\n",
              "      flex-wrap:wrap;\n",
              "      gap: 12px;\n",
              "    }\n",
              "\n",
              "    .colab-df-convert {\n",
              "      background-color: #E8F0FE;\n",
              "      border: none;\n",
              "      border-radius: 50%;\n",
              "      cursor: pointer;\n",
              "      display: none;\n",
              "      fill: #1967D2;\n",
              "      height: 32px;\n",
              "      padding: 0 0 0 0;\n",
              "      width: 32px;\n",
              "    }\n",
              "\n",
              "    .colab-df-convert:hover {\n",
              "      background-color: #E2EBFA;\n",
              "      box-shadow: 0px 1px 2px rgba(60, 64, 67, 0.3), 0px 1px 3px 1px rgba(60, 64, 67, 0.15);\n",
              "      fill: #174EA6;\n",
              "    }\n",
              "\n",
              "    [theme=dark] .colab-df-convert {\n",
              "      background-color: #3B4455;\n",
              "      fill: #D2E3FC;\n",
              "    }\n",
              "\n",
              "    [theme=dark] .colab-df-convert:hover {\n",
              "      background-color: #434B5C;\n",
              "      box-shadow: 0px 1px 3px 1px rgba(0, 0, 0, 0.15);\n",
              "      filter: drop-shadow(0px 1px 2px rgba(0, 0, 0, 0.3));\n",
              "      fill: #FFFFFF;\n",
              "    }\n",
              "  </style>\n",
              "\n",
              "      <script>\n",
              "        const buttonEl =\n",
              "          document.querySelector('#df-8206b3d7-c59a-4fd5-89ed-b21a1bac4490 button.colab-df-convert');\n",
              "        buttonEl.style.display =\n",
              "          google.colab.kernel.accessAllowed ? 'block' : 'none';\n",
              "\n",
              "        async function convertToInteractive(key) {\n",
              "          const element = document.querySelector('#df-8206b3d7-c59a-4fd5-89ed-b21a1bac4490');\n",
              "          const dataTable =\n",
              "            await google.colab.kernel.invokeFunction('convertToInteractive',\n",
              "                                                     [key], {});\n",
              "          if (!dataTable) return;\n",
              "\n",
              "          const docLinkHtml = 'Like what you see? Visit the ' +\n",
              "            '<a target=\"_blank\" href=https://colab.research.google.com/notebooks/data_table.ipynb>data table notebook</a>'\n",
              "            + ' to learn more about interactive tables.';\n",
              "          element.innerHTML = '';\n",
              "          dataTable['output_type'] = 'display_data';\n",
              "          await google.colab.output.renderOutput(dataTable, element);\n",
              "          const docLink = document.createElement('div');\n",
              "          docLink.innerHTML = docLinkHtml;\n",
              "          element.appendChild(docLink);\n",
              "        }\n",
              "      </script>\n",
              "    </div>\n",
              "  </div>\n",
              "  "
            ]
          },
          "metadata": {},
          "execution_count": 3
        }
      ]
    },
    {
      "cell_type": "code",
      "source": [
        "df.shape\n"
      ],
      "metadata": {
        "colab": {
          "base_uri": "https://localhost:8080/"
        },
        "id": "ICGVharz81Fc",
        "outputId": "b974278e-7155-4930-c501-e95f49e3eaed"
      },
      "execution_count": 4,
      "outputs": [
        {
          "output_type": "execute_result",
          "data": {
            "text/plain": [
              "(57531, 31)"
            ]
          },
          "metadata": {},
          "execution_count": 4
        }
      ]
    },
    {
      "cell_type": "code",
      "source": [
        "df.info()"
      ],
      "metadata": {
        "colab": {
          "base_uri": "https://localhost:8080/"
        },
        "id": "9e9L3Bkp8703",
        "outputId": "933da2e5-8d30-4651-f625-94ba3cbb291b"
      },
      "execution_count": 5,
      "outputs": [
        {
          "output_type": "stream",
          "name": "stdout",
          "text": [
            "<class 'pandas.core.frame.DataFrame'>\n",
            "RangeIndex: 57531 entries, 0 to 57530\n",
            "Data columns (total 31 columns):\n",
            " #   Column  Non-Null Count  Dtype  \n",
            "---  ------  --------------  -----  \n",
            " 0   Time    57531 non-null  int64  \n",
            " 1   V1      57531 non-null  float64\n",
            " 2   V2      57531 non-null  float64\n",
            " 3   V3      57531 non-null  float64\n",
            " 4   V4      57531 non-null  float64\n",
            " 5   V5      57530 non-null  float64\n",
            " 6   V6      57530 non-null  float64\n",
            " 7   V7      57530 non-null  float64\n",
            " 8   V8      57530 non-null  float64\n",
            " 9   V9      57530 non-null  float64\n",
            " 10  V10     57530 non-null  float64\n",
            " 11  V11     57530 non-null  float64\n",
            " 12  V12     57530 non-null  float64\n",
            " 13  V13     57530 non-null  float64\n",
            " 14  V14     57530 non-null  float64\n",
            " 15  V15     57530 non-null  float64\n",
            " 16  V16     57530 non-null  float64\n",
            " 17  V17     57530 non-null  float64\n",
            " 18  V18     57530 non-null  float64\n",
            " 19  V19     57530 non-null  float64\n",
            " 20  V20     57530 non-null  float64\n",
            " 21  V21     57530 non-null  float64\n",
            " 22  V22     57530 non-null  float64\n",
            " 23  V23     57530 non-null  float64\n",
            " 24  V24     57530 non-null  float64\n",
            " 25  V25     57530 non-null  float64\n",
            " 26  V26     57530 non-null  float64\n",
            " 27  V27     57530 non-null  float64\n",
            " 28  V28     57530 non-null  float64\n",
            " 29  Amount  57530 non-null  float64\n",
            " 30  Class   57530 non-null  float64\n",
            "dtypes: float64(30), int64(1)\n",
            "memory usage: 13.6 MB\n"
          ]
        }
      ]
    },
    {
      "cell_type": "code",
      "source": [
        "df.isna().sum()"
      ],
      "metadata": {
        "colab": {
          "base_uri": "https://localhost:8080/"
        },
        "id": "PYh7bMsu9JgU",
        "outputId": "30fb577c-b018-4911-d647-2c307190043d"
      },
      "execution_count": 6,
      "outputs": [
        {
          "output_type": "execute_result",
          "data": {
            "text/plain": [
              "Time      0\n",
              "V1        0\n",
              "V2        0\n",
              "V3        0\n",
              "V4        0\n",
              "V5        1\n",
              "V6        1\n",
              "V7        1\n",
              "V8        1\n",
              "V9        1\n",
              "V10       1\n",
              "V11       1\n",
              "V12       1\n",
              "V13       1\n",
              "V14       1\n",
              "V15       1\n",
              "V16       1\n",
              "V17       1\n",
              "V18       1\n",
              "V19       1\n",
              "V20       1\n",
              "V21       1\n",
              "V22       1\n",
              "V23       1\n",
              "V24       1\n",
              "V25       1\n",
              "V26       1\n",
              "V27       1\n",
              "V28       1\n",
              "Amount    1\n",
              "Class     1\n",
              "dtype: int64"
            ]
          },
          "metadata": {},
          "execution_count": 6
        }
      ]
    },
    {
      "cell_type": "code",
      "source": [
        "df['Class'] = pd.to_numeric(df['Class'], errors='coerce')"
      ],
      "metadata": {
        "id": "Mm2NiLfC9JVH"
      },
      "execution_count": 7,
      "outputs": []
    },
    {
      "cell_type": "code",
      "source": [
        "df = df.dropna(subset=['Class'])"
      ],
      "metadata": {
        "id": "uziaui6e9V5A"
      },
      "execution_count": 8,
      "outputs": []
    },
    {
      "cell_type": "code",
      "source": [
        "target=df.values[:,-1]"
      ],
      "metadata": {
        "id": "b5LGL3Bx9bAy"
      },
      "execution_count": 9,
      "outputs": []
    },
    {
      "cell_type": "code",
      "source": [
        "target"
      ],
      "metadata": {
        "colab": {
          "base_uri": "https://localhost:8080/"
        },
        "id": "sLq8JXvk9dqN",
        "outputId": "6dd74bd5-4a59-4450-986c-ed0ea377d78e"
      },
      "execution_count": 10,
      "outputs": [
        {
          "output_type": "execute_result",
          "data": {
            "text/plain": [
              "array([0., 0., 0., ..., 0., 0., 0.])"
            ]
          },
          "metadata": {},
          "execution_count": 10
        }
      ]
    },
    {
      "cell_type": "code",
      "source": [
        "from collections import Counter"
      ],
      "metadata": {
        "id": "kAwWP94M9jWR"
      },
      "execution_count": 11,
      "outputs": []
    },
    {
      "cell_type": "code",
      "source": [
        "counter = Counter(target)\n",
        "for k,v in counter.items():\n",
        "\tper = v / len(target) * 100\n",
        "\tprint('Class=%d, Count=%d, Percentage=%.3f%%' % (k, v, per))"
      ],
      "metadata": {
        "colab": {
          "base_uri": "https://localhost:8080/"
        },
        "id": "tnfYdZwl9lXF",
        "outputId": "7e09b7c3-2475-4ef5-bc98-f806ce024687"
      },
      "execution_count": 12,
      "outputs": [
        {
          "output_type": "stream",
          "name": "stdout",
          "text": [
            "Class=0, Count=57371, Percentage=99.724%\n",
            "Class=1, Count=159, Percentage=0.276%\n"
          ]
        }
      ]
    },
    {
      "cell_type": "code",
      "source": [
        "ax = df.hist(bins=100,figsize=(25,15))\n",
        "\n",
        "for axis in ax.flatten():\n",
        "\taxis.set_xticklabels([])\n",
        "\taxis.set_yticklabels([])\n",
        "\n",
        "plt.show()"
      ],
      "metadata": {
        "colab": {
          "base_uri": "https://localhost:8080/",
          "height": 790
        },
        "id": "f-xwiV1E9uMm",
        "outputId": "5585c5e9-684c-4f43-e555-86836172932c"
      },
      "execution_count": 13,
      "outputs": [
        {
          "output_type": "display_data",
          "data": {
            "text/plain": [
              "<Figure size 1800x1080 with 36 Axes>"
            ],
            "image/png": "[encoded data removed]"
          },
          "metadata": {
            "needs_background": "light"
          }
        }
      ]
    },
    {
      "cell_type": "code",
      "source": [
        "x=df.drop(['Class'],axis=1)"
      ],
      "metadata": {
        "id": "qcvtQqW791GO"
      },
      "execution_count": 14,
      "outputs": []
    },
    {
      "cell_type": "code",
      "source": [
        "y=df['Class']"
      ],
      "metadata": {
        "id": "T5oYBTmk98nZ"
      },
      "execution_count": 15,
      "outputs": []
    },
    {
      "cell_type": "code",
      "source": [
        "from sklearn.model_selection import train_test_split\n",
        "x_train,x_test,y_train,y_test=train_test_split(x,y,test_size=0.30,random_state=0)"
      ],
      "metadata": {
        "id": "Shbtpqfm-GE-"
      },
      "execution_count": 16,
      "outputs": []
    },
    {
      "cell_type": "code",
      "source": [
        "from imblearn.over_sampling import SMOTE\n",
        "\n",
        "counter=Counter(y_train)\n",
        "print('Before',counter)\n",
        "smt=SMOTE()\n",
        "\n",
        "X_train_sm,y_train_sm=smt.fit_resample(x_train,y_train)\n",
        "\n",
        "counter=Counter(y_train_sm)\n",
        "print('After',counter)"
      ],
      "metadata": {
        "colab": {
          "base_uri": "https://localhost:8080/"
        },
        "id": "a0ACV8rH-K2r",
        "outputId": "c777c5d8-e847-4786-918e-c614f388c86c"
      },
      "execution_count": 17,
      "outputs": [
        {
          "output_type": "stream",
          "name": "stdout",
          "text": [
            "Before Counter({0.0: 40163, 1.0: 108})\n",
            "After Counter({0.0: 40163, 1.0: 40163})\n"
          ]
        }
      ]
    },
    {
      "cell_type": "code",
      "source": [
        ""
      ],
      "metadata": {
        "id": "rkNE1feU-Sk2"
      },
      "execution_count": null,
      "outputs": []
    }
  ]
}